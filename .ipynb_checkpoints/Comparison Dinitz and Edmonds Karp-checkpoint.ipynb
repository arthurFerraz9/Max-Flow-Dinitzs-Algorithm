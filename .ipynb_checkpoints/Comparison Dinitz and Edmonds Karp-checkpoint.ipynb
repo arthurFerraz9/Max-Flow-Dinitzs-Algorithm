{
 "cells": [
  {
   "cell_type": "markdown",
   "metadata": {},
   "source": [
    "# Comparison Dinitz and Edmonds Karp"
   ]
  },
  {
   "cell_type": "code",
   "execution_count": 2,
   "metadata": {},
   "outputs": [],
   "source": [
    "import utils\n",
    "import networkx as nx\n",
    "import GraphGenerator"
   ]
  },
  {
   "cell_type": "code",
   "execution_count": 3,
   "metadata": {},
   "outputs": [],
   "source": [
    "def DinitzsAlgorithm(Gs, initialNode, finalNode):\n",
    "    flow = 0\n",
    "\n",
    "    while True:\n",
    "        L, existPathBetweenST = utils.extendedBFS(Gs, initialNode, finalNode)\n",
    "        utils.backwardsBFS(L, initialNode, finalNode)\n",
    "\n",
    "        if not existPathBetweenST: break\n",
    "\n",
    "        while True:\n",
    "            augmentingPath = utils.findAugmentingPath(L, initialNode, finalNode)\n",
    "            if not augmentingPath: break\n",
    "            flow += utils.augmentFlow(L, augmentingPath, Gs)\n",
    "\n",
    "    return flow"
   ]
  },
  {
   "cell_type": "code",
   "execution_count": 4,
   "metadata": {},
   "outputs": [],
   "source": [
    "def EdmondsKarpAlgorithm(Gs, initialNode, finalNode):\n",
    "    flow = 0\n",
    "\n",
    "    while True:\n",
    "        L, existPathBetweenST = utils.BFS(Gs, initialNode, finalNode)\n",
    "        \n",
    "        if not existPathBetweenST: break\n",
    "\n",
    "        augmentingPath = utils.findAugmentingPath(L, initialNode, finalNode)\n",
    "        flow += utils.augmentFlow(L, augmentingPath, Gs)\n",
    "\n",
    "    return flow"
   ]
  },
  {
   "cell_type": "markdown",
   "metadata": {},
   "source": [
    "### Creation of Instance"
   ]
  },
  {
   "cell_type": "code",
   "execution_count": 5,
   "metadata": {},
   "outputs": [],
   "source": [
    "import copy\n",
    "from networkx.algorithms.flow import edmonds_karp"
   ]
  },
  {
   "cell_type": "code",
   "execution_count": 12,
   "metadata": {},
   "outputs": [],
   "source": [
    "numberOfNodes = 10\n",
    "density       = 0.5 \n",
    "\n",
    "Gs = GraphGenerator.Generate(numberOfNodes, density)\n",
    "initialNode = 0\n",
    "finalNode = numberOfNodes -1\n",
    "\n",
    "GsDinitzs = copy.deepcopy(Gs)\n",
    "GsEdmondsKarp = copy.deepcopy(Gs)"
   ]
  },
  {
   "cell_type": "code",
   "execution_count": 13,
   "metadata": {},
   "outputs": [
    {
     "name": "stdout",
     "output_type": "stream",
     "text": [
      "Max flow is:  149\n",
      "CPU times: user 45.4 ms, sys: 3.99 ms, total: 49.3 ms\n",
      "Wall time: 48.4 ms\n"
     ]
    }
   ],
   "source": [
    "%%time\n",
    "\n",
    "maxFlow = DinitzsAlgorithm(GsDinitzs, initialNode, finalNode)\n",
    "\n",
    "print(\"Max flow is: \", maxFlow)"
   ]
  },
  {
   "cell_type": "code",
   "execution_count": 14,
   "metadata": {},
   "outputs": [
    {
     "ename": "KeyboardInterrupt",
     "evalue": "",
     "output_type": "error",
     "traceback": [
      "\u001b[0;31m---------------------------------------------------------------------------\u001b[0m",
      "\u001b[0;31mKeyboardInterrupt\u001b[0m                         Traceback (most recent call last)",
      "\u001b[0;32m<timed exec>\u001b[0m in \u001b[0;36m<module>\u001b[0;34m\u001b[0m\n",
      "\u001b[0;32m<ipython-input-4-317f48f99f70>\u001b[0m in \u001b[0;36mEdmondsKarpAlgorithm\u001b[0;34m(Gs, initialNode, finalNode)\u001b[0m\n\u001b[1;32m      3\u001b[0m \u001b[0;34m\u001b[0m\u001b[0m\n\u001b[1;32m      4\u001b[0m     \u001b[0;32mwhile\u001b[0m \u001b[0;32mTrue\u001b[0m\u001b[0;34m:\u001b[0m\u001b[0;34m\u001b[0m\u001b[0;34m\u001b[0m\u001b[0m\n\u001b[0;32m----> 5\u001b[0;31m         \u001b[0mL\u001b[0m\u001b[0;34m,\u001b[0m \u001b[0mexistPathBetweenST\u001b[0m \u001b[0;34m=\u001b[0m \u001b[0mutils\u001b[0m\u001b[0;34m.\u001b[0m\u001b[0mBFS\u001b[0m\u001b[0;34m(\u001b[0m\u001b[0mGs\u001b[0m\u001b[0;34m,\u001b[0m \u001b[0minitialNode\u001b[0m\u001b[0;34m,\u001b[0m \u001b[0mfinalNode\u001b[0m\u001b[0;34m)\u001b[0m\u001b[0;34m\u001b[0m\u001b[0;34m\u001b[0m\u001b[0m\n\u001b[0m\u001b[1;32m      6\u001b[0m \u001b[0;34m\u001b[0m\u001b[0m\n\u001b[1;32m      7\u001b[0m         \u001b[0;32mif\u001b[0m \u001b[0;32mnot\u001b[0m \u001b[0mexistPathBetweenST\u001b[0m\u001b[0;34m:\u001b[0m \u001b[0;32mbreak\u001b[0m\u001b[0;34m\u001b[0m\u001b[0;34m\u001b[0m\u001b[0m\n",
      "\u001b[0;32m~/PycharmProjects/Dinitzs/utils.py\u001b[0m in \u001b[0;36mBFS\u001b[0;34m(g, startingNode, finalNode)\u001b[0m\n\u001b[1;32m     58\u001b[0m \u001b[0;34m\u001b[0m\u001b[0m\n\u001b[1;32m     59\u001b[0m     \u001b[0;32mwhile\u001b[0m \u001b[0mqueue\u001b[0m\u001b[0;34m:\u001b[0m\u001b[0;34m\u001b[0m\u001b[0;34m\u001b[0m\u001b[0m\n\u001b[0;32m---> 60\u001b[0;31m         \u001b[0mcurrentNode\u001b[0m \u001b[0;34m=\u001b[0m \u001b[0mqueue\u001b[0m\u001b[0;34m.\u001b[0m\u001b[0mpop\u001b[0m\u001b[0;34m(\u001b[0m\u001b[0;36m0\u001b[0m\u001b[0;34m)\u001b[0m\u001b[0;34m\u001b[0m\u001b[0;34m\u001b[0m\u001b[0m\n\u001b[0m\u001b[1;32m     61\u001b[0m \u001b[0;34m\u001b[0m\u001b[0m\n\u001b[1;32m     62\u001b[0m         \u001b[0;32mfor\u001b[0m \u001b[0mneighbour\u001b[0m \u001b[0;32min\u001b[0m \u001b[0mg\u001b[0m\u001b[0;34m.\u001b[0m\u001b[0mneighbors\u001b[0m\u001b[0;34m(\u001b[0m\u001b[0mcurrentNode\u001b[0m\u001b[0;34m)\u001b[0m\u001b[0;34m:\u001b[0m\u001b[0;34m\u001b[0m\u001b[0;34m\u001b[0m\u001b[0m\n",
      "\u001b[0;31mKeyboardInterrupt\u001b[0m: "
     ]
    }
   ],
   "source": [
    "%%time\n",
    "\n",
    "maxFlow = EdmondsKarpAlgorithm(GsEdmondsKarp, initialNode, finalNode)\n",
    "\n",
    "print(\"Max flow is: \", maxFlow)"
   ]
  },
  {
   "cell_type": "code",
   "execution_count": 10,
   "metadata": {},
   "outputs": [
    {
     "name": "stdout",
     "output_type": "stream",
     "text": [
      "Max flow is:  1904\n",
      "CPU times: user 1.2 s, sys: 20 ms, total: 1.22 s\n",
      "Wall time: 1.22 s\n"
     ]
    }
   ],
   "source": [
    "%%time\n",
    "\n",
    "maxFlow = nx.maximum_flow(Gs, initialNode, finalNode)\n",
    "\n",
    "print(\"Max flow is: \", maxFlow[0])"
   ]
  }
 ],
 "metadata": {
  "kernelspec": {
   "display_name": "Dinitzs",
   "language": "python",
   "name": "dinitzs"
  },
  "language_info": {
   "codemirror_mode": {
    "name": "ipython",
    "version": 3
   },
   "file_extension": ".py",
   "mimetype": "text/x-python",
   "name": "python",
   "nbconvert_exporter": "python",
   "pygments_lexer": "ipython3",
   "version": "3.8.3"
  }
 },
 "nbformat": 4,
 "nbformat_minor": 2
}
