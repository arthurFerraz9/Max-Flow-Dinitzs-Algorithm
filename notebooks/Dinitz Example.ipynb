{
 "cells": [
  {
   "cell_type": "markdown",
   "metadata": {},
   "source": [
    "# Dinitz's Algorithm Example of Execution"
   ]
  },
  {
   "cell_type": "code",
   "execution_count": 1,
   "metadata": {},
   "outputs": [
    {
     "ename": "ModuleNotFoundError",
     "evalue": "No module named 'numpy'",
     "output_type": "error",
     "traceback": [
      "\u001b[1;31m---------------------------------------------------------------------------\u001b[0m",
      "\u001b[1;31mModuleNotFoundError\u001b[0m                       Traceback (most recent call last)",
      "\u001b[1;32m<ipython-input-1-75b837f1b692>\u001b[0m in \u001b[0;36m<module>\u001b[1;34m\u001b[0m\n\u001b[0;32m      5\u001b[0m     \u001b[0msys\u001b[0m\u001b[1;33m.\u001b[0m\u001b[0mpath\u001b[0m\u001b[1;33m.\u001b[0m\u001b[0mappend\u001b[0m\u001b[1;33m(\u001b[0m\u001b[0mmodule_path\u001b[0m\u001b[1;33m)\u001b[0m\u001b[1;33m\u001b[0m\u001b[1;33m\u001b[0m\u001b[0m\n\u001b[0;32m      6\u001b[0m \u001b[1;33m\u001b[0m\u001b[0m\n\u001b[1;32m----> 7\u001b[1;33m \u001b[1;32mfrom\u001b[0m \u001b[0msourcecode\u001b[0m \u001b[1;32mimport\u001b[0m \u001b[0mutils\u001b[0m\u001b[1;33m\u001b[0m\u001b[1;33m\u001b[0m\u001b[0m\n\u001b[0m\u001b[0;32m      8\u001b[0m \u001b[1;32mimport\u001b[0m \u001b[0mnetworkx\u001b[0m \u001b[1;32mas\u001b[0m \u001b[0mnx\u001b[0m\u001b[1;33m\u001b[0m\u001b[1;33m\u001b[0m\u001b[0m\n",
      "\u001b[1;32m~\\Documents\\Dinitzs\\Max-Flow-Dinitzs-Algorithm\\sourcecode\\utils.py\u001b[0m in \u001b[0;36m<module>\u001b[1;34m\u001b[0m\n\u001b[1;32m----> 1\u001b[1;33m \u001b[1;32mimport\u001b[0m \u001b[0mnumpy\u001b[0m \u001b[1;32mas\u001b[0m \u001b[0mnp\u001b[0m\u001b[1;33m\u001b[0m\u001b[1;33m\u001b[0m\u001b[0m\n\u001b[0m\u001b[0;32m      2\u001b[0m \u001b[1;32mimport\u001b[0m \u001b[0mnetworkx\u001b[0m \u001b[1;32mas\u001b[0m \u001b[0mnx\u001b[0m\u001b[1;33m\u001b[0m\u001b[1;33m\u001b[0m\u001b[0m\n\u001b[0;32m      3\u001b[0m \u001b[1;32mimport\u001b[0m \u001b[0mmatplotlib\u001b[0m\u001b[1;33m.\u001b[0m\u001b[0mpyplot\u001b[0m \u001b[1;32mas\u001b[0m \u001b[0mplt\u001b[0m\u001b[1;33m\u001b[0m\u001b[1;33m\u001b[0m\u001b[0m\n\u001b[0;32m      4\u001b[0m \u001b[1;33m\u001b[0m\u001b[0m\n\u001b[0;32m      5\u001b[0m \u001b[1;32mdef\u001b[0m \u001b[0mPrintGraph\u001b[0m\u001b[1;33m(\u001b[0m\u001b[0mG\u001b[0m\u001b[1;33m,\u001b[0m \u001b[0mpos\u001b[0m\u001b[1;33m)\u001b[0m\u001b[1;33m:\u001b[0m\u001b[1;33m\u001b[0m\u001b[1;33m\u001b[0m\u001b[0m\n",
      "\u001b[1;31mModuleNotFoundError\u001b[0m: No module named 'numpy'"
     ]
    }
   ],
   "source": [
    "import os\n",
    "import sys\n",
    "module_path = os.path.abspath(os.path.join('..'))\n",
    "if module_path not in sys.path:\n",
    "    sys.path.append(module_path)\n",
    "\n",
    "from sourcecode import utils\n",
    "import networkx as nx"
   ]
  },
  {
   "cell_type": "markdown",
   "metadata": {},
   "source": [
    "### Initializing example Graph"
   ]
  },
  {
   "cell_type": "code",
   "execution_count": null,
   "metadata": {},
   "outputs": [],
   "source": [
    "Gs = nx.DiGraph()\n",
    "\n",
    "Gs.add_nodes_from([\"S\",\"A\",\"B\",\"C\",\"D\",\"E\",\"T\"])\n",
    "\n",
    "Gs.add_edges_from([(\"S\", \"A\"), (\"S\", \"C\"), (\"A\", \"B\"), (\"A\", \"D\"), (\"C\", \"A\"), (\"C\", \"D\"),\n",
    "                  (\"B\", \"E\"), (\"B\", \"T\"), (\"D\", \"B\"), (\"D\", \"T\"), (\"E\", \"T\")])\n",
    "\n",
    "nx.set_edge_attributes(Gs, {(\"S\", \"A\"): 1, (\"S\", \"C\"): 3, (\"A\", \"B\"): 1,\n",
    "                           (\"A\", \"D\"): 3, (\"C\", \"A\"): 3, (\"C\", \"D\"): 2,\n",
    "                           (\"B\", \"E\"): 2, (\"B\", \"T\"): 3, (\"D\", \"B\"): 1,\n",
    "                           (\"D\", \"T\"): 1, (\"E\", \"T\"): 2}, \"capacity\")"
   ]
  },
  {
   "cell_type": "code",
   "execution_count": null,
   "metadata": {},
   "outputs": [],
   "source": [
    "# Variable needed to draw Graph always at same position\n",
    "seed = 458\n",
    "pos = nx.spring_layout(Gs, seed=seed)\n",
    "\n",
    "utils.PrintGraph(Gs, pos)"
   ]
  },
  {
   "cell_type": "markdown",
   "metadata": {},
   "source": [
    "### Runing first extended BFS"
   ]
  },
  {
   "cell_type": "code",
   "execution_count": null,
   "metadata": {},
   "outputs": [],
   "source": [
    "L, hasFoundFinalNode = utils.extendedBFS(Gs, \"S\", \"T\")\n",
    "utils.PrintGraph(L, pos)"
   ]
  },
  {
   "cell_type": "markdown",
   "metadata": {},
   "source": [
    "### Running Backwards BFS to remove nodes not reachable"
   ]
  },
  {
   "cell_type": "code",
   "execution_count": null,
   "metadata": {},
   "outputs": [],
   "source": [
    "utils.backwardsBFS(L, \"S\", \"T\")\n",
    "utils.PrintGraph(L, pos)"
   ]
  },
  {
   "cell_type": "markdown",
   "metadata": {},
   "source": [
    "### Finding Augmenting path and augmenting flow"
   ]
  },
  {
   "cell_type": "code",
   "execution_count": null,
   "metadata": {},
   "outputs": [],
   "source": [
    "path = utils.findAugmentingPath(L, \"S\", \"T\")\n",
    "print(path)\n",
    "\n",
    "f = utils.augmentFlow(L, path, Gs)\n",
    "\n",
    "print(\"Augmented flow \", f)\n",
    "\n",
    "utils.PrintGraph(L, pos)"
   ]
  },
  {
   "cell_type": "code",
   "execution_count": null,
   "metadata": {},
   "outputs": [],
   "source": [
    "# The augmentingPath algorithm remove the nodes\n",
    "path = utils.findAugmentingPath(L, \"S\", \"T\")\n",
    "print(path)\n",
    "\n",
    "utils.PrintGraph(L, pos)"
   ]
  },
  {
   "cell_type": "code",
   "execution_count": null,
   "metadata": {},
   "outputs": [],
   "source": [
    "f = utils.augmentFlow(L, path, Gs)\n",
    "\n",
    "print(\"Augmented flow \", f)\n",
    "\n",
    "utils.PrintGraph(L, pos)"
   ]
  },
  {
   "cell_type": "code",
   "execution_count": null,
   "metadata": {},
   "outputs": [],
   "source": [
    "path = utils.findAugmentingPath(L, \"S\", \"T\")\n",
    "print(path)"
   ]
  },
  {
   "cell_type": "code",
   "execution_count": null,
   "metadata": {},
   "outputs": [],
   "source": [
    "print(\"Residual Network\")\n",
    "utils.PrintGraph(Gs, pos)"
   ]
  },
  {
   "cell_type": "code",
   "execution_count": null,
   "metadata": {},
   "outputs": [],
   "source": [
    "L, hasFoundFinalNode = utils.extendedBFS(Gs, \"S\", \"T\")\n",
    "\n",
    "if hasFoundFinalNode:\n",
    "    print(\"There's at least one path between s and t\")\n",
    "else:\n",
    "    print(\"There's no path between s and t\")\n",
    "\n",
    "utils.PrintGraph(L, pos)"
   ]
  },
  {
   "cell_type": "code",
   "execution_count": null,
   "metadata": {},
   "outputs": [],
   "source": [
    "utils.backwardsBFS(L, \"S\", \"T\")\n",
    "utils.PrintGraph(L, pos)"
   ]
  },
  {
   "cell_type": "code",
   "execution_count": null,
   "metadata": {},
   "outputs": [],
   "source": [
    "# The augmentingPath algorithm remove the nodes\n",
    "path = utils.findAugmentingPath(L, \"S\", \"T\")\n",
    "print(path)\n",
    "\n",
    "f = utils.augmentFlow(L, path, Gs)\n",
    "\n",
    "print(\"Augmented flow \", f)\n",
    "\n",
    "utils.PrintGraph(L, pos)"
   ]
  },
  {
   "cell_type": "code",
   "execution_count": null,
   "metadata": {},
   "outputs": [],
   "source": [
    "# The augmentingPath algorithm remove the nodes\n",
    "path = utils.findAugmentingPath(L, \"S\", \"T\")\n",
    "print(path)"
   ]
  },
  {
   "cell_type": "code",
   "execution_count": null,
   "metadata": {},
   "outputs": [],
   "source": [
    "print(\"Residual Network\")\n",
    "utils.PrintGraph(Gs, pos)"
   ]
  },
  {
   "cell_type": "code",
   "execution_count": null,
   "metadata": {},
   "outputs": [],
   "source": [
    "L, hasFoundFinalNode = utils.extendedBFS(Gs, \"S\", \"T\")\n",
    "\n",
    "if hasFoundFinalNode:\n",
    "    print(\"There's at least one path between s and t\")\n",
    "else:\n",
    "    print(\"There's no path between s and t\")\n",
    "\n",
    "utils.PrintGraph(L, pos)"
   ]
  }
 ],
 "metadata": {
  "kernelspec": {
   "display_name": "Dinitzs",
   "language": "python",
   "name": "dinitzs"
  },
  "language_info": {
   "codemirror_mode": {
    "name": "ipython",
    "version": 3
   },
   "file_extension": ".py",
   "mimetype": "text/x-python",
   "name": "python",
   "nbconvert_exporter": "python",
   "pygments_lexer": "ipython3",
   "version": "3.7.6"
  }
 },
 "nbformat": 4,
 "nbformat_minor": 2
}
