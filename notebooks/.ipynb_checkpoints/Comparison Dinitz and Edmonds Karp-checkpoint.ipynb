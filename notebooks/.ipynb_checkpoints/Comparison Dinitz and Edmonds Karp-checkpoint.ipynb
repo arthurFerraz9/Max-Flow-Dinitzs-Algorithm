{
 "cells": [
  {
   "cell_type": "markdown",
   "metadata": {},
   "source": [
    "# Comparison Dinitz and Edmonds Karp"
   ]
  },
  {
   "cell_type": "code",
   "execution_count": 1,
   "metadata": {},
   "outputs": [],
   "source": [
    "import os\n",
    "import sys\n",
    "module_path = os.path.abspath(os.path.join('..'))\n",
    "if module_path not in sys.path:\n",
    "    sys.path.append(module_path)\n",
    "\n",
    "\n",
    "from sourcecode import utils, GraphGenerator\n",
    "import networkx as nx"
   ]
  },
  {
   "cell_type": "code",
   "execution_count": 2,
   "metadata": {},
   "outputs": [],
   "source": [
    "def DinitzsAlgorithm(Gs, initialNode, finalNode):\n",
    "    flow = 0\n",
    "    numberOfPhases = 0\n",
    "    \n",
    "    while True:\n",
    "\n",
    "        L, existPathBetweenST = utils.extendedBFS(Gs, initialNode, finalNode)\n",
    "        utils.backwardsBFS(L, initialNode, finalNode)\n",
    "        numberOfPhases += 1\n",
    "\n",
    "        \n",
    "        if not existPathBetweenST: break\n",
    "        \n",
    "        while True:\n",
    "            \n",
    "            augmentingPath = utils.findAugmentingPath(L, initialNode, finalNode)\n",
    "            if not augmentingPath: break\n",
    "            flow += utils.augmentFlow(L, augmentingPath, Gs)\n",
    "            \n",
    "    print(\"Number of \\\"Phases\\\": \", numberOfPhases)\n",
    "\n",
    "    return flow"
   ]
  },
  {
   "cell_type": "code",
   "execution_count": 3,
   "metadata": {},
   "outputs": [],
   "source": [
    "def EdmondsKarpAlgorithm(Gs, initialNode, finalNode):\n",
    "    flow = 0\n",
    "    numberOfPhases = 0\n",
    "    \n",
    "    while True:\n",
    "        \n",
    "        L, existPathBetweenST = utils.BFS(Gs, initialNode, finalNode)\n",
    "        numberOfPhases += 1\n",
    "        \n",
    "        if not existPathBetweenST: break\n",
    "\n",
    "        augmentingPath = utils.findAugmentingPath(L, initialNode, finalNode)\n",
    "        flow += utils.augmentFlow(L, augmentingPath, Gs)\n",
    "    \n",
    "    print(\"Number of \\\"Phases\\\": \", numberOfPhases)\n",
    "    return flow"
   ]
  },
  {
   "cell_type": "markdown",
   "metadata": {},
   "source": [
    "### Creation of Instance"
   ]
  },
  {
   "cell_type": "code",
   "execution_count": 4,
   "metadata": {},
   "outputs": [],
   "source": [
    "import copy"
   ]
  },
  {
   "cell_type": "code",
   "execution_count": 5,
   "metadata": {},
   "outputs": [],
   "source": [
    "numberOfNodes = 150\n",
    "density       = 0.7\n",
    "\n",
    "Gs = GraphGenerator.Generate(numberOfNodes, density)\n",
    "initialNode = 0\n",
    "finalNode = numberOfNodes -1\n",
    "\n",
    "GsDinitzs = copy.deepcopy(Gs)\n",
    "GsEdmondsKarp = copy.deepcopy(Gs)"
   ]
  },
  {
   "cell_type": "markdown",
   "metadata": {},
   "source": [
    "### Execution Time of Edmond Karps Algorithm - O(E² V)"
   ]
  },
  {
   "cell_type": "code",
   "execution_count": 6,
   "metadata": {},
   "outputs": [
    {
     "name": "stdout",
     "output_type": "stream",
     "text": [
      "Number of \"Phases\":  163\n",
      "Max flow is:  428\n",
      "CPU times: user 3.41 s, sys: 581 µs, total: 3.41 s\n",
      "Wall time: 3.41 s\n"
     ]
    }
   ],
   "source": [
    "%%time\n",
    "\n",
    "maxFlow = EdmondsKarpAlgorithm(GsEdmondsKarp, initialNode, finalNode)\n",
    "\n",
    "print(\"Max flow is: \", maxFlow)"
   ]
  },
  {
   "cell_type": "markdown",
   "metadata": {},
   "source": [
    "### Execution Time of Dinitzs Algorithm - O(E V²)"
   ]
  },
  {
   "cell_type": "code",
   "execution_count": 7,
   "metadata": {},
   "outputs": [
    {
     "name": "stdout",
     "output_type": "stream",
     "text": [
      "Number of \"Phases\":  4\n",
      "Max flow is:  428\n",
      "CPU times: user 560 ms, sys: 101 µs, total: 560 ms\n",
      "Wall time: 560 ms\n"
     ]
    }
   ],
   "source": [
    "%%time\n",
    "\n",
    "maxFlow = DinitzsAlgorithm(GsDinitzs, initialNode, finalNode)\n",
    "\n",
    "print(\"Max flow is: \", maxFlow)"
   ]
  },
  {
   "cell_type": "markdown",
   "metadata": {},
   "source": [
    "### Execution Time of Preflow Push Algorithm - O(√E V²)"
   ]
  },
  {
   "cell_type": "code",
   "execution_count": 8,
   "metadata": {},
   "outputs": [
    {
     "name": "stdout",
     "output_type": "stream",
     "text": [
      "Max flow is:  428\n",
      "CPU times: user 101 ms, sys: 8.18 ms, total: 109 ms\n",
      "Wall time: 111 ms\n"
     ]
    }
   ],
   "source": [
    "%%time\n",
    "\n",
    "maxFlow = nx.maximum_flow(Gs, initialNode, finalNode)\n",
    "\n",
    "print(\"Max flow is: \", maxFlow[0])"
   ]
  },
  {
   "cell_type": "code",
   "execution_count": null,
   "metadata": {},
   "outputs": [],
   "source": []
  }
 ],
 "metadata": {
  "kernelspec": {
   "display_name": "Dinitzs",
   "language": "python",
   "name": "dinitzs"
  },
  "language_info": {
   "codemirror_mode": {
    "name": "ipython",
    "version": 3
   },
   "file_extension": ".py",
   "mimetype": "text/x-python",
   "name": "python",
   "nbconvert_exporter": "python",
   "pygments_lexer": "ipython3",
   "version": "3.8.3"
  }
 },
 "nbformat": 4,
 "nbformat_minor": 2
}
