{
 "cells": [
  {
   "cell_type": "markdown",
   "metadata": {},
   "source": [
    "# Comparison Dinitz and Edmonds Karp"
   ]
  },
  {
   "cell_type": "code",
   "execution_count": null,
   "metadata": {},
   "outputs": [],
   "source": [
    "import os\n",
    "import sys\n",
    "module_path = os.path.abspath(os.path.join('..'))\n",
    "if module_path not in sys.path:\n",
    "    sys.path.append(module_path)\n",
    "\n",
    "\n",
    "from sourcecode import utils, GraphGenerator\n",
    "import networkx as nx"
   ]
  },
  {
   "cell_type": "code",
   "execution_count": null,
   "metadata": {},
   "outputs": [],
   "source": [
    "def DinitzsAlgorithm(Gs, initialNode, finalNode):\n",
    "    flow = 0\n",
    "    numberOfPhases = 0\n",
    "    \n",
    "    while True:\n",
    "\n",
    "        L, existPathBetweenST = utils.extendedBFS(Gs, initialNode, finalNode)\n",
    "        utils.backwardsBFS(L, initialNode, finalNode)\n",
    "        numberOfPhases += 1\n",
    "\n",
    "        \n",
    "        if not existPathBetweenST: break\n",
    "        \n",
    "        while True:\n",
    "            \n",
    "            augmentingPath = utils.findAugmentingPath(L, initialNode, finalNode)\n",
    "            if not augmentingPath: break\n",
    "            flow += utils.augmentFlow(L, augmentingPath, Gs)\n",
    "            \n",
    "    print(\"Number of \\\"Phases\\\": \", numberOfPhases)\n",
    "\n",
    "    return flow"
   ]
  },
  {
   "cell_type": "code",
   "execution_count": null,
   "metadata": {},
   "outputs": [],
   "source": [
    "def EdmondsKarpAlgorithm(Gs, initialNode, finalNode):\n",
    "    flow = 0\n",
    "    numberOfPhases = 0\n",
    "    \n",
    "    while True:\n",
    "        \n",
    "        L, existPathBetweenST = utils.BFS(Gs, initialNode, finalNode)\n",
    "        numberOfPhases += 1\n",
    "        \n",
    "        if not existPathBetweenST: break\n",
    "\n",
    "        augmentingPath = utils.findAugmentingPath(L, initialNode, finalNode)\n",
    "        flow += utils.augmentFlow(L, augmentingPath, Gs)\n",
    "    \n",
    "    print(\"Number of \\\"Phases\\\": \", numberOfPhases)\n",
    "    return flow"
   ]
  },
  {
   "cell_type": "markdown",
   "metadata": {},
   "source": [
    "### Creation of Instance"
   ]
  },
  {
   "cell_type": "code",
   "execution_count": null,
   "metadata": {},
   "outputs": [],
   "source": [
    "import copy"
   ]
  },
  {
   "cell_type": "code",
   "execution_count": null,
   "metadata": {},
   "outputs": [],
   "source": [
    "numberOfNodes = 150\n",
    "density       = 0.7\n",
    "\n",
    "Gs = GraphGenerator.Generate(numberOfNodes, density)\n",
    "initialNode = 0\n",
    "finalNode = numberOfNodes -1\n",
    "\n",
    "GsDinitzs = copy.deepcopy(Gs)\n",
    "GsEdmondsKarp = copy.deepcopy(Gs)"
   ]
  },
  {
   "cell_type": "markdown",
   "metadata": {},
   "source": [
    "### Execution Time of Edmond Karps Algorithm - O(E² V)"
   ]
  },
  {
   "cell_type": "code",
   "execution_count": null,
   "metadata": {},
   "outputs": [],
   "source": [
    "%%time\n",
    "\n",
    "maxFlow = EdmondsKarpAlgorithm(GsEdmondsKarp, initialNode, finalNode)\n",
    "\n",
    "print(\"Max flow is: \", maxFlow)"
   ]
  },
  {
   "cell_type": "markdown",
   "metadata": {},
   "source": [
    "### Execution Time of Dinitzs Algorithm - O(E V²)"
   ]
  },
  {
   "cell_type": "code",
   "execution_count": null,
   "metadata": {},
   "outputs": [],
   "source": [
    "%%time\n",
    "\n",
    "maxFlow = DinitzsAlgorithm(GsDinitzs, initialNode, finalNode)\n",
    "\n",
    "print(\"Max flow is: \", maxFlow)"
   ]
  },
  {
   "cell_type": "markdown",
   "metadata": {},
   "source": [
    "### Execution Time of Preflow Push Algorithm - O(√E V²)"
   ]
  },
  {
   "cell_type": "code",
   "execution_count": null,
   "metadata": {},
   "outputs": [],
   "source": [
    "%%time\n",
    "\n",
    "maxFlow = nx.maximum_flow(Gs, initialNode, finalNode)\n",
    "\n",
    "print(\"Max flow is: \", maxFlow[0])"
   ]
  },
  {
   "cell_type": "code",
   "execution_count": null,
   "metadata": {},
   "outputs": [],
   "source": []
  }
 ],
 "metadata": {
  "kernelspec": {
   "display_name": "Dinitzs",
   "language": "python",
   "name": "dinitzs"
  },
  "language_info": {
   "codemirror_mode": {
    "name": "ipython",
    "version": 3
   },
   "file_extension": ".py",
   "mimetype": "text/x-python",
   "name": "python",
   "nbconvert_exporter": "python",
   "pygments_lexer": "ipython3",
   "version": "3.7.6"
  }
 },
 "nbformat": 4,
 "nbformat_minor": 2
}
